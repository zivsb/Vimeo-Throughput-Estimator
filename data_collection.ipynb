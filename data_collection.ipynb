{
 "cells": [
  {
   "cell_type": "code",
   "execution_count": 1,
   "metadata": {},
   "outputs": [
    {
     "data": {
      "text/html": [
       "<style>.container { width:100% !important; }</style>"
      ],
      "text/plain": [
       "<IPython.core.display.HTML object>"
      ]
     },
     "metadata": {},
     "output_type": "display_data"
    }
   ],
   "source": [
    "from IPython.display import display, HTML\n",
    "display(HTML(\"<style>.container { width:100% !important; }</style>\"))"
   ]
  },
  {
   "cell_type": "code",
   "execution_count": null,
   "metadata": {},
   "outputs": [],
   "source": []
  },
  {
   "cell_type": "code",
   "execution_count": 2,
   "metadata": {},
   "outputs": [],
   "source": [
    "import os\n",
    "import time\n",
    "import random\n",
    "import time\n",
    "import requests \n",
    "import re\n",
    "import logging\n",
    "import subprocess\n",
    "from subprocess import Popen\n",
    "from sys import platform\n",
    "import os, sys\n",
    "import logging\n",
    "import json\n",
    "import threading\n",
    "\n",
    "from netunicorn.client.remote import RemoteClient, RemoteClientException\n",
    "from netunicorn.base import Experiment, ExperimentStatus, Pipeline\n",
    "from netunicorn.library.tasks.basic import SleepTask\n",
    "from netunicorn.library.tasks.measurements.ping import Ping\n",
    "from netunicorn.base.architecture import Architecture\n",
    "from netunicorn.base.nodes import Node\n",
    "from netunicorn.base.task import Failure, Task, TaskDispatcher\n",
    "from netunicorn.base import Result, Failure, Success, Task, TaskDispatcher\n",
    "from netunicorn.base.architecture import Architecture\n",
    "from netunicorn.base.nodes import Node\n",
    "\n",
    "# our imports\n",
    "#watchers\n",
    "from netunicorn.library.tasks.video_watchers.youtube_watcher import WatchYouTubeVideo\n",
    "from netunicorn.library.tasks.video_watchers.vimeo_watcher import WatchVimeoVideo\n",
    "# add vimeo and twitch\n",
    "#pcaps\n",
    "from netunicorn.library.tasks.capture.tcpdump import StartCapture, StopNamedCapture\n",
    "#speedtest\n",
    "from netunicorn.library.tasks.measurements.ookla_speedtest import SpeedTest\n",
    "\n",
    "from netunicorn.library.tasks.upload.fileio import UploadToFileIO\n",
    "\n",
    "from typing import Dict\n",
    "from typing import Optional\n",
    "from enum import IntEnum\n",
    "from datetime import datetime\n",
    "\n",
    "from typing import Dict\n",
    "from typing import Optional\n",
    "from enum import IntEnum\n",
    "from datetime import datetime\n",
    "\n",
    "from returns.pipeline import is_successful\n",
    "from returns.result import Failure"
   ]
  },
  {
   "cell_type": "code",
   "execution_count": 3,
   "metadata": {},
   "outputs": [],
   "source": [
    "NETUNICORN_ENDPOINT = os.environ.get('NETUNICORN_ENDPOINT', 'https://pinot.cs.ucsb.edu/netunicorn')\n",
    "NETUNICORN_LOGIN = os.environ.get('NETUNICORN_LOGIN', 'team_tz')       \n",
    "NETUNICORN_PASSWORD = os.environ.get('NETUNICORN_PASSWORD', 'throughput445')"
   ]
  },
  {
   "cell_type": "code",
   "execution_count": 5,
   "metadata": {},
   "outputs": [
    {
     "name": "stdout",
     "output_type": "stream",
     "text": [
      "Health Check: True\n",
      "[<Uncountable node pool with next node template: [aws-fargate-A-, aws-fargate-B-, aws-fargate-ARM64-]>, [snl-server-5, atopnuc-84:47:09:1b:00:3c, atopnuc-84:47:09:17:c0:b6, atopnuc-84:47:09:17:c1:b7, atopnuc-84:47:09:16:b6:cf, atopnuc-84:47:09:17:c0:57, atopnuc-84:47:09:17:c1:df, atopnuc-84:47:09:17:c8:0c, atopnuc-84:47:09:17:c4:83, atopnuc-84:47:09:17:c0:f6, atopnuc-84:47:09:17:c2:14, atopnuc-84:47:09:17:c1:8d, raspi-e4:5f:01:72:a2:35, raspi-e4:5f:01:8d:f5:95, raspi-e4:5f:01:6f:ef:0a, raspi-e4:5f:01:56:d8:cd, raspi-e4:5f:01:56:d8:f3, raspi-e4:5f:01:56:d9:8b, raspi-e4:5f:01:9c:ca:3a, raspi-e4:5f:01:9c:20:81, raspi-e4:5f:01:75:6b:2c, raspi-e4:5f:01:56:d9:a2, raspi-e4:5f:01:8d:ca:31, raspi-e4:5f:01:ac:e5:4b, raspi-e4:5f:01:a0:4f:96, raspi-e4:5f:01:72:a2:eb, raspi-e4:5f:01:72:a3:1c, raspi-e4:5f:01:79:4a:18, raspi-e4:5f:01:96:01:e8, raspi-e4:5f:01:75:54:ec, raspi-e4:5f:01:ad:c9:3f, raspi-e4:5f:01:75:ae:8d, raspi-e4:5f:01:56:d9:0a, raspi-e4:5f:01:a7:ae:70, raspi-e4:5f:01:a7:b1:9d, raspi-e4:5f:01:84:7f:76, raspi-e4:5f:01:a0:4e:31, raspi-e4:5f:01:8d:ca:12, raspi-e4:5f:01:9b:84:c4, raspi-e4:5f:01:75:6e:53, raspi-e4:5f:01:a7:b1:c1, raspi-e4:5f:01:a0:21:49, raspi-e4:5f:01:88:c4:99, raspi-e4:5f:01:a0:50:5f, raspi-dc:a6:32:d7:6e:64, raspi-e4:5f:01:ad:c9:2a, raspi-e4:5f:01:a0:4f:c5, raspi-e4:5f:01:56:d9:a3, raspi-e4:5f:01:9c:24:87, raspi-e4:5f:01:a7:b1:a3, raspi-e4:5f:01:ad:c9:04, raspi-e4:5f:01:6f:ee:14, raspi-e4:5f:01:a0:4b:01, raspi-e4:5f:01:a0:32:5f, raspi-e4:5f:01:ac:ed:5b, raspi-e4:5f:01:9c:25:7d, raspi-e4:5f:01:8c:8a:41, raspi-e4:5f:01:a0:4a:dd, raspi-e4:5f:01:75:54:04, raspi-e4:5f:01:a0:34:a5, raspi-e4:5f:01:8e:27:aa, raspi-e4:5f:01:ad:c9:11, raspi-e4:5f:01:75:6a:df, raspi-e4:5f:01:a7:b1:e5, raspi-e4:5f:01:a7:b2:7e, raspi-e4:5f:01:6f:ed:f3, raspi-e4:5f:01:84:8c:99, raspi-e4:5f:01:8d:ca:34, raspi-e4:5f:01:78:6f:2e, raspi-e4:5f:01:56:d6:ce]]\n",
      "2\n",
      "[raspi-e4:5f:01:72:a2:35, raspi-e4:5f:01:8d:f5:95, raspi-e4:5f:01:6f:ef:0a, raspi-e4:5f:01:56:d8:cd, raspi-e4:5f:01:56:d8:f3, raspi-e4:5f:01:56:d9:8b, raspi-e4:5f:01:9c:ca:3a, raspi-e4:5f:01:9c:20:81, raspi-e4:5f:01:75:6b:2c, raspi-e4:5f:01:56:d9:a2]\n"
     ]
    }
   ],
   "source": [
    "client = RemoteClient(endpoint=NETUNICORN_ENDPOINT, login=NETUNICORN_LOGIN, password=NETUNICORN_PASSWORD)\n",
    "print(\"Health Check: {}\".format(client.healthcheck()))\n",
    "nodes = client.get_nodes()\n",
    "print(nodes)\n",
    "print(len(nodes))\n",
    "raspi_nodes = nodes.filter(lambda node: node.name.startswith(\"raspi\")).take(10)\n",
    "print(raspi_nodes)"
   ]
  },
  {
   "cell_type": "code",
   "execution_count": 9,
   "metadata": {},
   "outputs": [],
   "source": [
    "pipeline = (Pipeline()\n",
    "                .then(SpeedTest())\n",
    "                .then(StartCapture(filepath='/tmp/videocapture.pcap', name=\"capture\"))\n",
    "                .then(SleepTask(seconds=2))\n",
    "                .then(WatchVimeoVideo(video_url=\"https://vimeo.com/874415317#t=44s\", duration=10))\n",
    "                .then(SleepTask(seconds=2))\n",
    "                .then(StopNamedCapture(start_capture_task_name=\"capture\"))\n",
    "                .then(UploadToFileIO(filepath='/tmp/videocapture.pcap', expires=\"1d\"))\n",
    "                .then(SpeedTest())\n",
    ")\n",
    "                    "
   ]
  },
  {
   "cell_type": "code",
   "execution_count": 10,
   "metadata": {},
   "outputs": [],
   "source": [
    "def execute_pipeline(pipeline, working_node, experiment_label):\n",
    "    client = RemoteClient(endpoint=NETUNICORN_ENDPOINT, login=NETUNICORN_LOGIN, password=NETUNICORN_PASSWORD)\n",
    "    nodes = client.get_nodes()\n",
    "    working_nodes = nodes.filter(lambda node: node.name.startswith(working_node)).take(1)\n",
    "    experiment = Experiment().map(pipeline, working_nodes)\n",
    "\n",
    "    from netunicorn.base import DockerImage\n",
    "    for deployment in experiment:\n",
    "        # you can explore the image on the DockerHub\n",
    "        deployment.environment_definition = DockerImage(image='speeeday/chromium-speedtest:0.3.0')\n",
    "\n",
    "    try:\n",
    "        client.delete_experiment(experiment_label)\n",
    "    except RemoteClientException:\n",
    "        pass\n",
    "\n",
    "    # Prepare Experiment\n",
    "    client.prepare_experiment(experiment, experiment_label)\n",
    "    while True:\n",
    "        info = client.get_experiment_status(experiment_label)\n",
    "        print(info.status)\n",
    "        if info.status == ExperimentStatus.READY:\n",
    "            break\n",
    "        time.sleep(20)\n",
    "\n",
    "    time.sleep(5)\n",
    "\n",
    "    # Execute Experiment\n",
    "    client.start_execution(experiment_label)\n",
    "    while True:\n",
    "        info = client.get_experiment_status(experiment_label)\n",
    "        print(info.status)\n",
    "        if info.status != ExperimentStatus.RUNNING:\n",
    "            break\n",
    "        time.sleep(20)\n",
    "    return info"
   ]
  },
  {
   "cell_type": "code",
   "execution_count": 11,
   "metadata": {},
   "outputs": [],
   "source": [
    "def display_results(info):\n",
    "    # Get Results\n",
    "    for report in info.execution_result:\n",
    "        print(f\"Node name: {report.node.name}\")\n",
    "        print(f\"Error: {report.error}\")\n",
    "\n",
    "        if report.result is None:\n",
    "            print(\"report.result is EMPTY..\")\n",
    "            continue\n",
    "\n",
    "        result, log = report.result  # report stores results of execution and corresponding log\n",
    "\n",
    "        # result is a returns.result.Result object, could be Success of Failure\n",
    "        print(f\"Result is: {type(result)}\")\n",
    "        if is_successful(result):\n",
    "            data = result.unwrap()\n",
    "        else:\n",
    "            data = result.failure()\n",
    "        try:\n",
    "            for key, value in data.items():\n",
    "                print(f\"{key}: {value}\")\n",
    "        except:\n",
    "            print(f\"No attribute 'items' in result\")\n",
    "\n",
    "        # we also can explore logs\n",
    "        for line in log:\n",
    "            print(line.strip())\n",
    "        print()"
   ]
  },
  {
   "cell_type": "code",
   "execution_count": 12,
   "metadata": {},
   "outputs": [],
   "source": [
    "working_node = 'raspi-e4:5f:01:9b:85:9c'"
   ]
  },
  {
   "cell_type": "code",
   "execution_count": 13,
   "metadata": {},
   "outputs": [
    {
     "name": "stdout",
     "output_type": "stream",
     "text": [
      "ExperimentStatus.PREPARING\n",
      "ExperimentStatus.PREPARING\n",
      "ExperimentStatus.PREPARING\n",
      "ExperimentStatus.PREPARING\n",
      "ExperimentStatus.PREPARING\n",
      "ExperimentStatus.PREPARING\n",
      "ExperimentStatus.READY\n",
      "ExperimentStatus.RUNNING\n",
      "ExperimentStatus.RUNNING\n",
      "ExperimentStatus.RUNNING\n",
      "ExperimentStatus.RUNNING\n",
      "ExperimentStatus.RUNNING\n",
      "ExperimentStatus.RUNNING\n",
      "ExperimentStatus.RUNNING\n",
      "ExperimentStatus.FINISHED\n",
      "Node name: raspi-e4:5f:01:9b:85:9c\n",
      "Error: None\n",
      "Result is: <class 'returns.result.Success'>\n",
      "container_value: defaultdict(<class 'list'>, {'e6244ae5-3769-4cb5-9a4c-a897628934c3': [<Success: {'container_value': {'ping': {'value': 8.134, 'unit': 'ms'}, 'download': {'value': 66.94, 'unit': 'Mbit/s'}, 'upload': {'value': 60.62, 'unit': 'Mbit/s'}}}>], 'capture': [<Success: {'container_value': 115}>], '0e04a24c-06a6-43dc-89a4-afab076f1b8c': [<Success: {'container_value': 2}>], 'a1b1130f-e0e9-49d3-9503-f8afeeda2ab8': [<Success: {'container_value': 'Video finished by timeout: 20 seconds'}>], 'a3a6ed05-865d-4ceb-83c5-9280cd526f93': [<Success: {'container_value': 2}>], '973cd918-3e62-4b16-bf78-58ff509a9f8b': [<Success: {'container_value': b''}>], '246dc54b-a538-4cf2-ada7-389d953589e6': [<Success: {'container_value': '{\"success\":true,\"status\":200,\"id\":\"60dd6740-8130-11ee-a404-7584938b3e2d\",\"key\":\"Qmpb5kM0dICP\",\"path\":\"/\",\"nodeType\":\"file\",\"name\":\"videocapture.pcap\",\"title\":null,\"description\":null,\"size\":7696406,\"link\":\"https://file.io/Qmpb5kM0dICP\",\"private\":false,\"expires\":\"2023-11-13T07:52:07.785Z\",\"downloads\":0,\"maxDownloads\":1,\"autoDelete\":true,\"planId\":0,\"screeningStatus\":\"pending\",\"mimeType\":\"application/octet-stream\",\"created\":\"2023-11-12T07:52:07.785Z\",\"modified\":\"2023-11-12T07:52:07.785Z\"}'}>], '04ba5454-80de-4b35-a62e-d813e04fb6ad': [<Success: {'container_value': {'ping': {'value': 8.009, 'unit': 'ms'}, 'download': {'value': 66.3, 'unit': 'Mbit/s'}, 'upload': {'value': 61.8, 'unit': 'Mbit/s'}}}>]})\n",
      "Parsed configuration: Gateway located on https://pinot.cs.ucsb.edu/dev/netunicorn/gateway\n",
      "Current directory: /\n",
      "Successfully received pipeline.\n",
      "Pipeline finished, start reporting results.\n",
      "\n"
     ]
    }
   ],
   "source": [
    "info = execute_pipeline(pipeline, working_node, 'vimeo_experiment2')\n",
    "display_results(info)"
   ]
  },
  {
   "cell_type": "code",
   "execution_count": 14,
   "metadata": {},
   "outputs": [
    {
     "name": "stdout",
     "output_type": "stream",
     "text": [
      "Node name: raspi-e4:5f:01:9b:85:9c\n",
      "Error: None\n",
      "Result is: <class 'returns.result.Success'>\n",
      "container_value: defaultdict(<class 'list'>, {'e6244ae5-3769-4cb5-9a4c-a897628934c3': [<Success: {'container_value': {'ping': {'value': 8.134, 'unit': 'ms'}, 'download': {'value': 66.94, 'unit': 'Mbit/s'}, 'upload': {'value': 60.62, 'unit': 'Mbit/s'}}}>], 'capture': [<Success: {'container_value': 115}>], '0e04a24c-06a6-43dc-89a4-afab076f1b8c': [<Success: {'container_value': 2}>], 'a1b1130f-e0e9-49d3-9503-f8afeeda2ab8': [<Success: {'container_value': 'Video finished by timeout: 20 seconds'}>], 'a3a6ed05-865d-4ceb-83c5-9280cd526f93': [<Success: {'container_value': 2}>], '973cd918-3e62-4b16-bf78-58ff509a9f8b': [<Success: {'container_value': b''}>], '246dc54b-a538-4cf2-ada7-389d953589e6': [<Success: {'container_value': '{\"success\":true,\"status\":200,\"id\":\"60dd6740-8130-11ee-a404-7584938b3e2d\",\"key\":\"Qmpb5kM0dICP\",\"path\":\"/\",\"nodeType\":\"file\",\"name\":\"videocapture.pcap\",\"title\":null,\"description\":null,\"size\":7696406,\"link\":\"https://file.io/Qmpb5kM0dICP\",\"private\":false,\"expires\":\"2023-11-13T07:52:07.785Z\",\"downloads\":0,\"maxDownloads\":1,\"autoDelete\":true,\"planId\":0,\"screeningStatus\":\"pending\",\"mimeType\":\"application/octet-stream\",\"created\":\"2023-11-12T07:52:07.785Z\",\"modified\":\"2023-11-12T07:52:07.785Z\"}'}>], '04ba5454-80de-4b35-a62e-d813e04fb6ad': [<Success: {'container_value': {'ping': {'value': 8.009, 'unit': 'ms'}, 'download': {'value': 66.3, 'unit': 'Mbit/s'}, 'upload': {'value': 61.8, 'unit': 'Mbit/s'}}}>]})\n",
      "Parsed configuration: Gateway located on https://pinot.cs.ucsb.edu/dev/netunicorn/gateway\n",
      "Current directory: /\n",
      "Successfully received pipeline.\n",
      "Pipeline finished, start reporting results.\n",
      "\n"
     ]
    }
   ],
   "source": [
    "display_results(info)"
   ]
  },
  {
   "cell_type": "code",
   "execution_count": null,
   "metadata": {},
   "outputs": [],
   "source": []
  }
 ],
 "metadata": {
  "kernelspec": {
   "display_name": "Python 3 (ipykernel)",
   "language": "python",
   "name": "python3"
  },
  "language_info": {
   "codemirror_mode": {
    "name": "ipython",
    "version": 3
   },
   "file_extension": ".py",
   "mimetype": "text/x-python",
   "name": "python",
   "nbconvert_exporter": "python",
   "pygments_lexer": "ipython3",
   "version": "3.10.12"
  },
  "orig_nbformat": 4
 },
 "nbformat": 4,
 "nbformat_minor": 2
}
